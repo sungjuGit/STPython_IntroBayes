{
  "nbformat": 4,
  "nbformat_minor": 0,
  "metadata": {
    "colab": {
      "provenance": [],
      "authorship_tag": "ABX9TyOmUHhueUruhUCpLR4dv2DF",
      "include_colab_link": true
    },
    "kernelspec": {
      "name": "python3",
      "display_name": "Python 3"
    },
    "language_info": {
      "name": "python"
    }
  },
  "cells": [
    {
      "cell_type": "markdown",
      "metadata": {
        "id": "view-in-github",
        "colab_type": "text"
      },
      "source": [
        "<a href=\"https://colab.research.google.com/github/sungjuGit/STPython_IntroBayes/blob/main/Kalman_example_python.ipynb\" target=\"_parent\"><img src=\"https://colab.research.google.com/assets/colab-badge.svg\" alt=\"Open In Colab\"/></a>"
      ]
    },
    {
      "cell_type": "code",
      "source": [
        "import numpy as np\n",
        "from copy import deepcopy"
      ],
      "metadata": {
        "id": "LkhFkPFJwhxY"
      },
      "execution_count": 1,
      "outputs": []
    },
    {
      "cell_type": "markdown",
      "source": [
        "## Define class Kalman and related functions"
      ],
      "metadata": {
        "id": "WazVmfnvwkrg"
      }
    },
    {
      "cell_type": "code",
      "execution_count": 2,
      "metadata": {
        "id": "xaPY7ZcXv_3U"
      },
      "outputs": [],
      "source": [
        "class Kalman:\n",
        "    \"\"\"\n",
        "    Defines the Kalman Filter object.\n",
        "    \"\"\"\n",
        "    def __init__(self, A, Q, H, R, m, P):\n",
        "        \"\"\"\n",
        "        Initialize a Kalman filter.\n",
        "\n",
        "        Parameters can be either matrices/vectors or scalars.\n",
        "        A: State transition matrix\n",
        "        Q: Process covariance matrix\n",
        "        H: Measurement mapping\n",
        "        R: Measurement covariance matrix\n",
        "        m: Current estimate mean\n",
        "        P: State covariance matrix. Current estimate uncertainty\n",
        "        \"\"\"\n",
        "        self.A = A  # State transition matrix\n",
        "        self.Q = Q  # Process covariance matrix\n",
        "        self.H = H  # Measurement mapping\n",
        "        self.R = R  # Measurement covariance matrix\n",
        "        self.m = m  # Current estimate mean\n",
        "        self.P = P  # State covariance matrix. Current estimate uncertainty\n",
        "\n",
        "def K(k_or_P, H=None, R=None):\n",
        "    \"\"\"\n",
        "    Computes the Kalman Gain.\n",
        "\n",
        "    Can be called with a Kalman object or with P, H, R matrices directly.\n",
        "    \"\"\"\n",
        "    if isinstance(k_or_P, Kalman):\n",
        "        # Called with a Kalman object\n",
        "        k = k_or_P\n",
        "        return K(k.P, k.H, k.R)\n",
        "    else:\n",
        "        # Called with P, H, R matrices\n",
        "        P = k_or_P\n",
        "        # Note: In numpy, @ is the matrix multiplication operator\n",
        "        return P @ np.transpose(H) @ np.linalg.inv(H @ P @ np.transpose(H) + R)\n",
        "\n",
        "def predict(k):\n",
        "    \"\"\"\n",
        "    Predict next state based on the dynamic process model.\n",
        "    \"\"\"\n",
        "    k.m = k.A @ k.m\n",
        "    k.P = k.A @ k.P @ np.transpose(k.A) + k.Q\n",
        "    return {\"state\": k.m, \"cov\": k.P}\n",
        "\n",
        "def update(k, y):\n",
        "    \"\"\"\n",
        "    Compute the filtered distribution.\n",
        "    \"\"\"\n",
        "    kalman_gain = K(k.P, k.H, k.R)\n",
        "    k.m = k.m + kalman_gain @ (y - k.H @ k.m)\n",
        "\n",
        "    # The identity matrix needs to be sized correctly\n",
        "    I = np.eye(kalman_gain.shape[0])\n",
        "\n",
        "    innovation = I - kalman_gain @ k.H\n",
        "    k.P = innovation @ k.P @ np.transpose(innovation) + kalman_gain @ k.R @ np.transpose(kalman_gain)\n",
        "\n",
        "    return {\"state\": k.m, \"cov\": k.P, \"gain\": kalman_gain}\n",
        "\n",
        "def next(k, y):\n",
        "    \"\"\"\n",
        "    Compute a complete Kalman step.\n",
        "    \"\"\"\n",
        "    new_instance = deepcopy(k)\n",
        "    p = predict(new_instance)\n",
        "    up = update(new_instance, y)\n",
        "\n",
        "    return {\n",
        "        \"filter\": new_instance,\n",
        "        \"updated\": up[\"state\"],\n",
        "        \"predicted\": p[\"state\"],\n",
        "        \"cov\": up[\"cov\"],\n",
        "        \"gain\": up[\"gain\"]\n",
        "    }"
      ]
    },
    {
      "cell_type": "markdown",
      "source": [
        " ## Example for 2nd order linear Kalman filter"
      ],
      "metadata": {
        "id": "LcN1-0YYwvYG"
      }
    },
    {
      "cell_type": "code",
      "source": [
        "## x = [x1 x2 x1dot x2dot x1dotdot x2dotdot]\n",
        "# measurements are done for x1, x2, x1dotdot, and x2dotdot\n",
        "\n",
        "# Initial state vector\n",
        "x_0 = np.zeros((6, 1))\n",
        "\n",
        "# Initial covariance matrix\n",
        "Σ_0 = np.eye(6) * 1000\n",
        "\n",
        "# Time step\n",
        "Δ_t = 0.1\n",
        "\n",
        "# State transition matrix\n",
        "A = np.array([\n",
        "    [1, 0, Δ_t, 0, 0.5*Δ_t**2, 0],\n",
        "    [0, 1, 0, Δ_t, 0, 0.5*Δ_t**2],\n",
        "    [0, 0, 1, 0, Δ_t, 0],\n",
        "    [0, 0, 0, 1, 0, Δ_t],\n",
        "    [0, 0, 0, 0, 1, 0],\n",
        "    [0, 0, 0, 0, 0, 1]\n",
        "])\n",
        "\n",
        "# Measurement mapping matrix\n",
        "H = np.array([\n",
        "    [1, 0, 0, 0, 0, 0],\n",
        "    [0, 1, 0, 0, 0, 0],\n",
        "    [0, 0, 0, 0, 1, 0],\n",
        "    [0, 0, 0, 0, 0, 1]\n",
        "])\n",
        "\n",
        "# Measurement covariance matrix\n",
        "R = np.array([\n",
        "    [2, 0, 0, 0],\n",
        "    [0, 10, 0, 0],\n",
        "    [0, 0, 0.4, 0],\n",
        "    [0, 0, 0, 0.4]\n",
        "])\n",
        "\n",
        "# Process covariance matrix\n",
        "Q = np.eye(6) * 0.0001"
      ],
      "metadata": {
        "id": "S_bdUWPKwcIB"
      },
      "execution_count": 3,
      "outputs": []
    },
    {
      "cell_type": "code",
      "source": [
        "# Initialize the Kalman filter\n",
        "kalman_filter = Kalman(A, Q, H, R, x_0, Σ_0)"
      ],
      "metadata": {
        "id": "01HekrOzw10I"
      },
      "execution_count": 4,
      "outputs": []
    },
    {
      "cell_type": "code",
      "source": [
        "# Number of measurement data points\n",
        "n = 2\n",
        "\n",
        "# Initialize arrays to store results\n",
        "predicted = np.zeros((6, n))\n",
        "updated = np.zeros((6, n))\n",
        "covariances = np.zeros((6, 6, n))\n",
        "gains = np.zeros((6, 4, n))"
      ],
      "metadata": {
        "id": "2__KpmMDw30l"
      },
      "execution_count": 5,
      "outputs": []
    },
    {
      "cell_type": "code",
      "source": [
        "# Main loop\n",
        "for i in range(n):  # Python uses 0-based indexing, unlike Julia's 1-based indexing\n",
        "    # Current measurement - replace with actual data in each time step\n",
        "    y_cur = np.array([[1], [1], [1], [1]])\n",
        "\n",
        "    # Perform a complete Kalman step\n",
        "    filter_next = next(kalman_filter, y_cur)\n",
        "\n",
        "    # Store results\n",
        "    predicted[:, i:i+1] = filter_next[\"predicted\"]\n",
        "    updated[:, i:i+1] = filter_next[\"updated\"]\n",
        "    covariances[:, :, i] = filter_next[\"cov\"]\n",
        "    gains[:, :, i] = filter_next[\"gain\"]\n",
        "\n",
        "    # Use recursion - update filter for next iteration\n",
        "    kalman_filter = filter_next[\"filter\"]"
      ],
      "metadata": {
        "id": "ITdnyXJYwYUs"
      },
      "execution_count": 6,
      "outputs": []
    },
    {
      "cell_type": "code",
      "source": [
        "predicted"
      ],
      "metadata": {
        "colab": {
          "base_uri": "https://localhost:8080/"
        },
        "id": "RX1iYDuzxJNo",
        "outputId": "8d36b5ed-1bf8-414a-9539-bc2b66bbe3a9"
      },
      "execution_count": 7,
      "outputs": [
        {
          "output_type": "execute_result",
          "data": {
            "text/plain": [
              "array([[0.        , 1.02285966],\n",
              "       [0.        , 1.01499403],\n",
              "       [0.        , 0.29824076],\n",
              "       [0.        , 0.29746962],\n",
              "       [0.        , 0.99960213],\n",
              "       [0.        , 0.99960211]])"
            ]
          },
          "metadata": {},
          "execution_count": 7
        }
      ]
    },
    {
      "cell_type": "code",
      "source": [
        "updated"
      ],
      "metadata": {
        "colab": {
          "base_uri": "https://localhost:8080/"
        },
        "id": "1jJJMy9pxKL6",
        "outputId": "76301d36-e996-4575-8035-f2cf6b2827a4"
      },
      "execution_count": 8,
      "outputs": [
        {
          "output_type": "execute_result",
          "data": {
            "text/plain": [
              "array([[0.99803359, 1.00328088],\n",
              "       [0.99024508, 1.00499898],\n",
              "       [0.19828055, 0.13553239],\n",
              "       [0.19750941, 0.24751919],\n",
              "       [0.99960213, 0.99979614],\n",
              "       [0.99960211, 0.99979954]])"
            ]
          },
          "metadata": {},
          "execution_count": 8
        }
      ]
    },
    {
      "cell_type": "code",
      "source": [],
      "metadata": {
        "id": "1HUWBf2cxL2R"
      },
      "execution_count": null,
      "outputs": []
    }
  ]
}